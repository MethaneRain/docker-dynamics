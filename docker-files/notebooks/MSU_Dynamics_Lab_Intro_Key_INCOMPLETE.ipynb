{
 "cells": [
  {
   "cell_type": "markdown",
   "metadata": {},
   "source": [
    "# MTR 3420 Atmospheric Dynamics  \n",
    "# Intro to Python Notebook\n",
    "# Justin Richling - 08/20/2018 "
   ]
  },
  {
   "cell_type": "markdown",
   "metadata": {},
   "source": [
    "## This notebook will allow many learning opportunities: \n",
    "<br>\n",
    "<li>Reading Data from NetCDF File</li><br>\n",
    "  <li>Working with Multidimensional Arrays</li><br>\n",
    "  <li>Creating Functions</li><br>\n",
    "  <li>Running Calculations</li><br>\n",
    "  <li>Using Working Notebook - chance to use HTML and Tex formatting</li><br>\n",
    "  <li>Learning Python and common programming language terminology</li><br>\n",
    "  <li>Algorithms - Learning how to think rationally</li><br>\n",
    "  <li>Saving New Data to New NetCDF File</li><br>"
   ]
  },
  {
   "cell_type": "markdown",
   "metadata": {},
   "source": [
    "## This notebook will also allow for several different plots:\n",
    "<br>\n",
    "<li>Plotting 1000 and 500mb Geopotential Heights with Surface Low</li><br>\n",
    "  <li>500mb Geopotential Heights - Color-Filled Contours w/ Contours</li><br>\n",
    "  <li>500mb u and v Components of Geostrophic Winds</li><br>\n",
    "  <li>500mb Geostrophic Winds and Heights</li><br>\n",
    "  <li>500mb Relative Vorticity and Heights</li><br>"
   ]
  },
  {
   "cell_type": "markdown",
   "metadata": {},
   "source": [
    "<h3><center><font face=\"fantasy, serif\" color=#233513 style=\"font-size:35px\">-----------------------------//-----------------------------</font></center></h3>\n"
   ]
  },
  {
   "cell_type": "markdown",
   "metadata": {},
   "source": [
    "cd /home/username/Downloads/"
   ]
  },
  {
   "cell_type": "markdown",
   "metadata": {},
   "source": [
    "#### Go back a level in the file heirarchy \n",
    "#### Example: if we were in the path /home/jrichlin/Dekstop/SomeFolder/, running cd .. in a command line will\n",
    "#### take our working drive path to /home/jrichlin/Desktop/\n",
    "cd .. "
   ]
  },
  {
   "cell_type": "markdown",
   "metadata": {},
   "source": [
    "# -------------------------------------------//------------------------------------------"
   ]
  },
  {
   "cell_type": "markdown",
   "metadata": {},
   "source": [
    "<h1>In Python we can import external libraries that we can download which will help us in numerous ways</h1>\n",
    "\n",
    "* One of the most useful aspects of Python is being able to import external libraries (once you have them downloaded) to help with such things like mathematical calcs, plotting, working with arrays and specific types of data files (NetCDF for example).<br>\n",
    "\n",
    "\n",
    "* We can also use them for grabbing things from the internet or the operating system of our computer like command line operations."
   ]
  },
  {
   "cell_type": "markdown",
   "metadata": {},
   "source": [
    "## Imports\n",
    "* We can learn about importing libraries"
   ]
  },
  {
   "cell_type": "code",
   "execution_count": 2,
   "metadata": {},
   "outputs": [],
   "source": [
    "# numpy is Python's math library and helps us with calculations. Trig functions, constants and \n",
    "# symbols are accessable.\n",
    "import numpy as np\n",
    "\n",
    "# xarray will allow us so many cool and useful features when working with multidimensional data arrays\n",
    "import xarray as xr\n",
    "\n",
    "# Matplotlib is Pyhton's plotting library and pyplot is where all our plotting be be coming from\n",
    "import matplotlib.pyplot as plt"
   ]
  },
  {
   "cell_type": "markdown",
   "metadata": {},
   "source": [
    "# -------------------------------------------//------------------------------------------"
   ]
  },
  {
   "cell_type": "markdown",
   "metadata": {},
   "source": [
    "# Now it's time to pull some data from our NetCDF file!\n",
    "    \n",
    "* What we will be doing time and time again is assigning data, numbers, strings, etc to <i>variables</i>. This allows us to keep accessing the data once the data file is closed. Most importantly it will allow us to be free to probe the information stored in the variable over and over again in our <i>for-loops</i>.\n",
    "\n",
    "\n",
    "* Setting the file path as a variable <i>ds</i> for the data file. Find out where this file lives on your computer. We can use the command line or through finder windows on the desktop.\n",
    "\n",
    "\n",
    "* Then calling NetCDFFile() will read all the data from the NetCDF file and we can print it out to examine what's going on."
   ]
  },
  {
   "cell_type": "markdown",
   "metadata": {},
   "source": [
    "# "
   ]
  },
  {
   "cell_type": "code",
   "execution_count": 15,
   "metadata": {},
   "outputs": [
    {
     "name": "stdout",
     "output_type": "stream",
     "text": [
      "1.3202288713052233\n"
     ]
    },
    {
     "data": {
      "text/plain": [
       "(2, 2, 3)"
      ]
     },
     "execution_count": 15,
     "metadata": {},
     "output_type": "execute_result"
    }
   ],
   "source": [
    "temp = 15 + 8 * np.random.randn(2, 2, 3)\n",
    "print((temp[0][0][0]-15)/8)\n",
    "\n",
    "precip = 10 * np.random.rand(2, 2, 3)\n",
    "\n",
    "# 4 lat/lon pairs, so the dimensions of this array will be 2x2=4\n",
    "lon = [[-99.83, -99.32], [-99.79, -99.23]]\n",
    "\n",
    "lat = [[42.25, 42.21], [42.63, 42.59]]\n",
    "\n",
    "# for real use cases, its good practice to supply array attributes such as\n",
    "# units, but we won't bother here for the sake of brevity\n",
    "ds = xr.Dataset({'temperature': (['x', 'y', 'time'],  temp),\n",
    "                  'precipitation': (['x', 'y', 'time'], precip)},\n",
    "                 coords={'lon': (['x', 'y'], lon),\n",
    "                         'lat': (['x', 'y'], lat)})\n",
    "\n",
    "ds['temperature'].shape"
   ]
  },
  {
   "cell_type": "markdown",
   "metadata": {},
   "source": [
    "### Now we can populate a 4d array of time, level, lat, and lon. Each entry in the new 4d array will have a height value in meters:\n",
    "\n",
    "* Give this a minute as it is doing some heavy lifting populating all the indicies"
   ]
  },
  {
   "cell_type": "code",
   "execution_count": 11,
   "metadata": {},
   "outputs": [
    {
     "name": "stdout",
     "output_type": "stream",
     "text": [
      "Shape of the full height array:  (1464, 17, 73, 144)\n",
      "<class 'numpy.float32'>\n",
      "CPU times: user 26.7 s, sys: 7.71 s, total: 34.4 s\n",
      "Wall time: 1min 22s\n"
     ]
    }
   ],
   "source": [
    "%%time\n",
    "# hgt(time, level, lat, lon)\n",
    "height = ds.variables['hgt'][:,:,:,:]\n",
    "\n",
    "# for the CONUS we need the index range for lats (12:32) and lons (88:122)\n",
    "CONUS_height = ds.variables['hgt'][:,:,12:32,88:122]\n",
    "\n",
    "print(\"Shape of the full height array: \",height.shape)\n",
    "print(type(height[0,0,0,0]))"
   ]
  },
  {
   "cell_type": "markdown",
   "metadata": {},
   "source": [
    "### One cool feature of accessing metadata is getting metadata to save as variables too. Here we are pulling the description of the name of the variable:"
   ]
  },
  {
   "cell_type": "code",
   "execution_count": 12,
   "metadata": {},
   "outputs": [
    {
     "name": "stdout",
     "output_type": "stream",
     "text": [
      "What 'hgt' variable is:  Geopotential height\n"
     ]
    }
   ],
   "source": [
    "# height array stored all the actual values of ds[\"hgt\"], but not the metadata like description (.var_descr)\n",
    "\n",
    "hgt_descr = str(ds.variables['hgt'].var_desc)\n",
    "print(\"What 'hgt' variable is: \",hgt_descr)"
   ]
  },
  {
   "cell_type": "code",
   "execution_count": 38,
   "metadata": {},
   "outputs": [
    {
     "name": "stdout",
     "output_type": "stream",
     "text": [
      "<class 'netCDF4._netCDF4.Variable'>\n",
      "float64 time(time)\n",
      "    long_name: Time\n",
      "    delta_t: 0000-00-00 06:00:00\n",
      "    standard_name: time\n",
      "    axis: T\n",
      "    units: hours since 1800-01-01 00:00:0.0\n",
      "    actual_range: [1893408. 1902186.]\n",
      "unlimited dimensions: time\n",
      "current shape = (1464,)\n",
      "filling on, default _FillValue of 9.969209968386869e+36 used\n",
      "\n"
     ]
    },
    {
     "data": {
      "text/plain": [
       "datetime.datetime(2016, 2, 2, 12, 0)"
      ]
     },
     "execution_count": 38,
     "metadata": {},
     "output_type": "execute_result"
    }
   ],
   "source": [
    "print(ds.variables[\"time\"])\n",
    "\n",
    "# fill in times.\n",
    "from datetime import datetime, timedelta\n",
    "from netCDF4 import num2date, date2num\n",
    "dates = [datetime(2016,1,1)+n*timedelta(hours=6) for n in range(Time.shape[0])]\n",
    "\n",
    "mydate = dates[mytime_index]\n",
    "mydate"
   ]
  },
  {
   "cell_type": "markdown",
   "metadata": {},
   "source": [
    "## Since we've loaded all our data we can close the file so it's not running in the background:"
   ]
  },
  {
   "cell_type": "code",
   "execution_count": 42,
   "metadata": {},
   "outputs": [],
   "source": [
    "ds.close()"
   ]
  },
  {
   "cell_type": "markdown",
   "metadata": {},
   "source": [
    "### We can print it out a little neater in scientific notation:\n",
    "\n",
    "* (%.3e means 3 decimal places in 'e' or scientific notation)"
   ]
  },
  {
   "cell_type": "code",
   "execution_count": 51,
   "metadata": {},
   "outputs": [
    {
     "name": "stdout",
     "output_type": "stream",
     "text": [
      "PGFx at Denver: 1.219e-03\n",
      "PGFy at Denver: -4.935e-04\n",
      "PGF resultant: 1.315e-03\n"
     ]
    }
   ],
   "source": [
    "print('PGFx at Denver:','%.3e' % pgfx)\n",
    "print('PGFy at Denver:','%.3e' % pgfy)\n",
    "print('PGF resultant:','%.3e' % pgf)"
   ]
  },
  {
   "cell_type": "markdown",
   "metadata": {},
   "source": [
    "### We should also calculate the angle of the resultant vector:\n",
    "\n",
    "* (Note: numpy inverse trig functions are given in radians!)</font></h2>"
   ]
  },
  {
   "cell_type": "code",
   "execution_count": 52,
   "metadata": {},
   "outputs": [
    {
     "name": "stdout",
     "output_type": "stream",
     "text": [
      "22.04 degrees from x-axis\n"
     ]
    }
   ],
   "source": [
    "angle = np.arccos(pgfx/pgf)*(180/np.pi)\n",
    "# We can round the decimal to two places:\n",
    "angle = np.around(angle,2)\n",
    "print(angle,\"degrees from x-axis\")"
   ]
  },
  {
   "cell_type": "markdown",
   "metadata": {},
   "source": [
    "# -------------------------------------------//------------------------------------------"
   ]
  },
  {
   "cell_type": "markdown",
   "metadata": {},
   "source": [
    "## End of Day 1 Data, I'm Proud of You!"
   ]
  },
  {
   "cell_type": "markdown",
   "metadata": {},
   "source": [
    "# -------------------------------------------//------------------------------------------"
   ]
  },
  {
   "cell_type": "markdown",
   "metadata": {},
   "source": [
    "# Day 2 Data"
   ]
  },
  {
   "cell_type": "markdown",
   "metadata": {},
   "source": [
    "## We can also define another function for the Coriolis factor CorFac: \n",
    "\n",
    "## $f = 2\\Omega sin{\\phi} \\hspace{10 mm} \\Omega=7.292e^{-5}s^{-1}$"
   ]
  },
  {
   "cell_type": "code",
   "execution_count": 53,
   "metadata": {},
   "outputs": [],
   "source": [
    "# We will need to pass the latitude from the Lat array to get the value!\n",
    "\n",
    "def CorFac(mylat_index):\n",
    "    cof = 2*7.292E-5*np.sin(Lat[mylat_index]*np.pi/180)\n",
    "    return float(cof)"
   ]
  },
  {
   "cell_type": "code",
   "execution_count": 54,
   "metadata": {},
   "outputs": [
    {
     "name": "stdout",
     "output_type": "stream",
     "text": [
      "Coriolis factor over Denver:  9.374414499668488e-05\n",
      "Coriolis factor over Denver: 9.374e-05\n"
     ]
    }
   ],
   "source": [
    "f = CorFac(Denlat_index)\n",
    "print('Coriolis factor over Denver: ',f)\n",
    "print('Coriolis factor over Denver: %.3e' % f)"
   ]
  },
  {
   "cell_type": "markdown",
   "metadata": {},
   "source": [
    "## How would we want to scale this up to collect the Coriolis factor for all latitudes?"
   ]
  },
  {
   "cell_type": "code",
   "execution_count": 55,
   "metadata": {},
   "outputs": [
    {
     "name": "stdout",
     "output_type": "stream",
     "text": [
      "done.\n"
     ]
    }
   ],
   "source": [
    "# Initate an empty 1d array to populate with Coriolis factors for each lat\n",
    "#COR = xr.DataArray(np.zeros((73)),dims=['x'],coords={'x': Lat})\n",
    "COR = np.zeros((73))\n",
    "\n",
    "for i in range(0,73):\n",
    "    COR[i]=CorFac(i)\n",
    "        \n",
    "print(\"done.\")"
   ]
  },
  {
   "cell_type": "code",
   "execution_count": 87,
   "metadata": {},
   "outputs": [],
   "source": [
    "colors=[(30,30,30),(50,50,50),(65,65,65),(80,80,80),(90,90,90),(100,100,100),(108,108,108),(114,114,114),\n",
    "        (120,120,120),(130,130,130),(150,150,150),(180,180,180),(190,190,190),(200,200,200),(211,211,211),\n",
    "        (220,220,220),(230,230,230),(244,244,244),(255, 255, 255),(255, 255, 255),(255, 255, 255),\n",
    "        (230,250,230),(0, 100, 0),(50,200,50),(200,255,47),(255,255,0),(255,200,50),(255,150,80),\n",
    "        (255,100,50),(255,0,0),(180,0,0),(140,0,0),(100,0,0),(150,10,0),(208,32,144),(150,32,144),\n",
    "        (108,32,144),(0,0,100),(0,0,255),(0,150,150),(135,206,250)]\n",
    "\n",
    "vort_cmap = Color_Bar.create_colormap(colors, bit=True)\n"
   ]
  },
  {
   "cell_type": "code",
   "execution_count": null,
   "metadata": {},
   "outputs": [],
   "source": [
    "#%%time\n",
    "\n",
    "# For-Loop example\n",
    "\n",
    "Vort_500mb = np.zeros((20, 34,30*4))\n",
    "print(Vort_500mb.shape)\n",
    "#[:,:,12:32,88:122]\n",
    "for i in range(0,20):\n",
    "    for j in range(0,34):\n",
    "        for k in range(0,120):\n",
    "            try:\n",
    "                Vort_500mb[i,j,k]=Vort(mylev_index,k+124,i+12,j+88,dx,dy)\n",
    "            \n",
    "            except ZeroDivisionError:\n",
    "                normalized_score = Vort_500mb[i-1,j-1,k] \n",
    "print(\"done.\")"
   ]
  }
 ],
 "metadata": {
  "kernelspec": {
   "display_name": "Python 3",
   "language": "python",
   "name": "python3"
  },
  "language_info": {
   "codemirror_mode": {
    "name": "ipython",
    "version": 3
   },
   "file_extension": ".py",
   "mimetype": "text/x-python",
   "name": "python",
   "nbconvert_exporter": "python",
   "pygments_lexer": "ipython3",
   "version": "3.7.2"
  }
 },
 "nbformat": 4,
 "nbformat_minor": 2
}
