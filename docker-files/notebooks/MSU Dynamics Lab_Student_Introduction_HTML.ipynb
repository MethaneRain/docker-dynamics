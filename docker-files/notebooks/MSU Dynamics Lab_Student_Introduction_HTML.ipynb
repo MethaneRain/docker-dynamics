{
 "cells": [
  {
   "cell_type": "markdown",
   "metadata": {
    "collapsed": true
   },
   "source": [
    "<h1><font face=\"fantasy, serif\" color=#533563 style=\"font-size:40px\"><center>MTR 3420 Dynamics - Interactive Lab Notebook</center><br/></font><font face=\"fantasy, serif\" color=#533563 style=\"font-size:35px\"><center>Python Introduction Crash Course</center></font></h1>"
   ]
  },
  {
   "cell_type": "markdown",
   "metadata": {
    "collapsed": true
   },
   "source": [
    "\n",
    "<h1><font face=\"fantasy, serif\" color=#533563 style=\"font-size:28px\"><center>The topics we will briefly tackle in this notebook:</center><br/></font><font face=\"fantasy, serif\" color=#533563 style=\"font-size:18px\"><ul> \n",
    "  <li>Data Types:<br></li>\n",
    "  <ul>\n",
    "      <li>integers (int)</li><br>\n",
    "      <li>floating point decimals (float)</li><br>\n",
    "      <li>strings (str)</li>\n",
    "  </ul><br>\n",
    "  <li>Math in Python</li><br>\n",
    "  <li>For-Loops</li><br>\n",
    "  <li>Functions</li><br>\n",
    "  <li>Lists and Arrays</li><br>\n",
    "  <li>User Inputs</li>\n",
    "</ul></font></h1>"
   ]
  },
  {
   "cell_type": "markdown",
   "metadata": {},
   "source": [
    "<h3><center><font face=\"fantasy, serif\" color=#233513 style=\"font-size:35px\">-----------------------------//-----------------------------</font></center></h3>"
   ]
  },
  {
   "cell_type": "markdown",
   "metadata": {},
   "source": [
    "<h2><font face=\"fantasy, serif\" color=#533563 style=\"font-size:23px\">When anyone begins programming, the first line of code they usually run is printing \"hello world\", so let's do it to say we've done it.<br><br>To run a cell in the notebook, press shift and enter at the same time.</font></h2>"
   ]
  },
  {
   "cell_type": "code",
   "execution_count": 1,
   "metadata": {},
   "outputs": [
    {
     "name": "stdout",
     "output_type": "stream",
     "text": [
      "Hello world!\n"
     ]
    }
   ],
   "source": [
    "print \"Hello world!\""
   ]
  },
  {
   "cell_type": "markdown",
   "metadata": {},
   "source": [
    "<h2><font face=\"fantasy, serif\" color=#533563 style=\"font-size:23px\">Congratulations, you have now officially run your first line of code!</font></h2>"
   ]
  },
  {
   "cell_type": "markdown",
   "metadata": {},
   "source": [
    "<h3><center><font face=\"fantasy, serif\" color=#233513 style=\"font-size:35px\">-----------------------------//-----------------------------</font></center></h3>"
   ]
  },
  {
   "cell_type": "markdown",
   "metadata": {},
   "source": [
    "<h2><font face=\"fantasy, serif\" color=#533563 style=\"font-size:40px\"><center>Data Types!</center><br></font><font face=\"fantasy, serif\" color=#533563 style=\"font-size:23px\">Before we can jump into working with data, we need to understand what different data types exist in python and what each mean.</font></h2>"
   ]
  },
  {
   "cell_type": "markdown",
   "metadata": {},
   "source": [
    "<h2><font face=\"fantasy, serif\" color=#533563 style=\"font-size:23px\">Let's start by assigning two variables $a$ and $b$ to some numbers:</font></h2>"
   ]
  },
  {
   "cell_type": "code",
   "execution_count": 26,
   "metadata": {},
   "outputs": [
    {
     "name": "stdout",
     "output_type": "stream",
     "text": [
      "a = 5\n",
      "b = 7\n",
      "Data type of a: <class 'int'>\n"
     ]
    }
   ],
   "source": [
    "a = 5\n",
    "b = 7\n",
    "print(\"a =\",a)  # We are already encountering printing two types of data\n",
    "print(\"b =\",b)\n",
    "print(\"Data type of a:\",type(a))"
   ]
  },
  {
   "cell_type": "code",
   "execution_count": 34,
   "metadata": {},
   "outputs": [
    {
     "data": {
      "text/plain": [
       "0"
      ]
     },
     "execution_count": 34,
     "metadata": {},
     "output_type": "execute_result"
    }
   ],
   "source": [
    "a//b"
   ]
  },
  {
   "cell_type": "markdown",
   "metadata": {},
   "source": [
    "<h2><font face=\"fantasy, serif\" color=#533563 style=\"font-size:35px\">What?!?  $\\frac{5}{7}\\not= 0$<br><br>By default if you enter a number like 5 Python will interpret this as an integer; a whole number. What we need is a floating point decimal or float()</font></h2>"
   ]
  },
  {
   "cell_type": "code",
   "execution_count": 39,
   "metadata": {},
   "outputs": [
    {
     "name": "stdout",
     "output_type": "stream",
     "text": [
      "float(a)/float(b): 0.0\n",
      "int(c): 0\n",
      "str(c): 0.0\n"
     ]
    }
   ],
   "source": [
    "c = float(a)//float(b)\n",
    "print(\"float(a)/float(b):\",c)\n",
    "\n",
    "# Remove the # below and run the code to see if things make sense. What should we expect to print?\n",
    "#c = float(a//b)\n",
    "#print(\"dividing two integers and then making a float:\",c)\n",
    "\n",
    "print(\"int(c):\",int(c))\n",
    "print(\"str(c):\",str(c))"
   ]
  },
  {
   "cell_type": "markdown",
   "metadata": {},
   "source": [
    "<h2><font face=\"fantasy, serif\" color=#533563 style=\"font-size:23px\">An easier way is to just add a decimal point if we want Python to know we want a float initially:</font></h2>"
   ]
  },
  {
   "cell_type": "code",
   "execution_count": 41,
   "metadata": {},
   "outputs": [
    {
     "name": "stdout",
     "output_type": "stream",
     "text": [
      "0.7142857142857143 <class 'float'>\n"
     ]
    }
   ],
   "source": [
    "a = 5.0   # or a = 5. is also acceptable\n",
    "b = 7.0\n",
    "print(a/b,type(a/b))"
   ]
  },
  {
   "cell_type": "markdown",
   "metadata": {},
   "source": [
    "<h2><font face=\"fantasy, serif\" color=#533563 style=\"font-size:23px\">Now that we've quickly dealt with numbers in Python, the last data type we will worry about is $str$ or string. This is a foreign concept but it is a data type that allows us to write letters and numbers as we would in a book since a book only understands print not numbers or arrays, etc. Make sense? It's ok if it dosesn't yet.</font></h2>"
   ]
  },
  {
   "cell_type": "code",
   "execution_count": 42,
   "metadata": {},
   "outputs": [
    {
     "name": "stdout",
     "output_type": "stream",
     "text": [
      "This is a <class 'str'> :  5.0\n",
      "This is a <class 'float'> :  5.0\n"
     ]
    }
   ],
   "source": [
    "print(\"This is a\",type(str(a)),\": \",str(a))\n",
    "print(\"This is a\",type(float(a)),\": \",float(a))"
   ]
  },
  {
   "cell_type": "code",
   "execution_count": 44,
   "metadata": {},
   "outputs": [
    {
     "name": "stdout",
     "output_type": "stream",
     "text": [
      "5.05.0\n",
      "Add a to a: 10.0\n",
      "Data type of a+a: <class 'float'>\n"
     ]
    }
   ],
   "source": [
    "print(str(a)+str(a)) # This will concoctinate the two strings\n",
    "print(\"Add a to a:\",a+a)# This will actually add the two if they are numbers\n",
    "print(\"Data type of a+a:\",type(a+a))"
   ]
  },
  {
   "cell_type": "code",
   "execution_count": 45,
   "metadata": {},
   "outputs": [
    {
     "ename": "TypeError",
     "evalue": "can only concatenate str (not \"float\") to str",
     "output_type": "error",
     "traceback": [
      "\u001b[0;31m---------------------------------------------------------------------------\u001b[0m",
      "\u001b[0;31mTypeError\u001b[0m                                 Traceback (most recent call last)",
      "\u001b[0;32m<ipython-input-45-f14170411903>\u001b[0m in \u001b[0;36m<module>\u001b[0;34m\u001b[0m\n\u001b[0;32m----> 1\u001b[0;31m \u001b[0mstr\u001b[0m\u001b[0;34m(\u001b[0m\u001b[0ma\u001b[0m\u001b[0;34m)\u001b[0m\u001b[0;34m+\u001b[0m\u001b[0mfloat\u001b[0m\u001b[0;34m(\u001b[0m\u001b[0ma\u001b[0m\u001b[0;34m)\u001b[0m\u001b[0;34m\u001b[0m\u001b[0;34m\u001b[0m\u001b[0m\n\u001b[0m",
      "\u001b[0;31mTypeError\u001b[0m: can only concatenate str (not \"float\") to str"
     ]
    }
   ],
   "source": [
    "str(a)+float(a)\n",
    "# What happens when this runs? Does it make sense?"
   ]
  },
  {
   "cell_type": "markdown",
   "metadata": {},
   "source": [
    "<h2><font face=\"fantasy, serif\" color=#533563 style=\"font-size:23px\">Let's define a new variable called $words$ and assign it to a sentence, which must be a $str$ data type:</font></h2>"
   ]
  },
  {
   "cell_type": "code",
   "execution_count": 46,
   "metadata": {},
   "outputs": [
    {
     "name": "stdout",
     "output_type": "stream",
     "text": [
      "words type:  <class 'str'>\n"
     ]
    }
   ],
   "source": [
    "words = \"Is that a funnel cloud?\"\n",
    "print(\"words type: \",type(words))"
   ]
  },
  {
   "cell_type": "markdown",
   "metadata": {},
   "source": [
    "<h2><font face=\"fantasy, serif\" color=#533563 style=\"font-size:23px\">There exists a length function to grab the length of the variable; the number of characters called $len()$:</font></h2>"
   ]
  },
  {
   "cell_type": "code",
   "execution_count": 51,
   "metadata": {},
   "outputs": [
    {
     "name": "stdout",
     "output_type": "stream",
     "text": [
      "words: Is that a funnel cloud?\n",
      "Numbers of characters in our words variable: 23\n"
     ]
    }
   ],
   "source": [
    "print(\"words:\",words)\n",
    "print(\"Numbers of characters in our words variable:\",len(words))"
   ]
  },
  {
   "cell_type": "markdown",
   "metadata": {},
   "source": [
    "<h2><font face=\"fantasy, serif\" color=#533563 style=\"font-size:23px\">One important note is that Python is a <i>zeroth</i> index language; meaning its first entry is called the zeroth entry. Another note is that when taking a slice, Python <i><u>goes up to but does not include the last entry</u></i>. You will forget and it's ok.</font></h2>"
   ]
  },
  {
   "cell_type": "markdown",
   "metadata": {},
   "source": [
    "<h2><font face=\"fantasy, serif\" color=#533563 style=\"font-size:23px\">We are going to learn about taking <i>slices</i>; a subset of information from the variable:</font></h2>"
   ]
  },
  {
   "cell_type": "code",
   "execution_count": 55,
   "metadata": {},
   "outputs": [
    {
     "name": "stdout",
     "output_type": "stream",
     "text": [
      "Is that a funnel cloud?\n",
      "Is that a funnel cloud?\n",
      "Is that a funnel cloud?\n",
      "Is that a funnel cloud?\n",
      "?\n"
     ]
    }
   ],
   "source": [
    "# These will all print the same thing. Try and understand why.\n",
    "\n",
    "print(words[:])\n",
    "print(words[0:]) # Leaving the last entry blank will defualt to the last term\n",
    "print(words[0:len(words)]) # using the value of the length will also set the last term \n",
    "print(words[:len(words)]) # Leaving the first entry blank will defualt to the 0th term\n",
    "print(words[len(words)-1]) "
   ]
  },
  {
   "cell_type": "markdown",
   "metadata": {},
   "source": [
    "<h2><font face=\"fantasy, serif\" color=#533563 style=\"font-size:23px\">We will take the first character in $words$ (python's zeroth term) and go up to, but not include the third (python's second term).</font></h2>"
   ]
  },
  {
   "cell_type": "markdown",
   "metadata": {},
   "source": [
    "<h2><font face=\"fantasy, serif\" color=#533563 style=\"font-size:23px\">The output below will print $words[0]$ and $words[1]$; the first two terms of $words$.<br><br>Again, $words[2]$ is ignored.</font></h2>"
   ]
  },
  {
   "cell_type": "code",
   "execution_count": 57,
   "metadata": {},
   "outputs": [
    {
     "name": "stdout",
     "output_type": "stream",
     "text": [
      "Is\n",
      "I\n",
      "s\n",
      " \n"
     ]
    }
   ],
   "source": [
    "print(words[0:2])\n",
    "print(words[0])\n",
    "print(words[1])\n",
    "print(words[2])"
   ]
  },
  {
   "cell_type": "markdown",
   "metadata": {},
   "source": [
    "<h2><font face=\"fantasy, serif\" color=#533563 style=\"font-size:23px\">We can separate words knowing which entry number they are in $words$:</font></h2>"
   ]
  },
  {
   "cell_type": "code",
   "execution_count": 72,
   "metadata": {},
   "outputs": [
    {
     "name": "stdout",
     "output_type": "stream",
     "text": [
      "Is that a funnel cloud? \n",
      "\n",
      "Is\n",
      "that \n",
      "a\n",
      "funnel\n",
      "cloud\n",
      "?\n"
     ]
    }
   ],
   "source": [
    "print(words,\"\\n\")\n",
    "print(words[0:2]) # Remember, we're ignoring words[2]\n",
    "print(words[3:8]) # and we're ignoring words[8]\n",
    "print(words[8:9]) # and ignoring words[9]\n",
    "print(words[10:16]) # and ignoring words[16]\n",
    "print(words[17:22]) # and ignoring words[22]\n",
    "print(words[-1:]) # Arrays also know negative entries. This prints the last entry"
   ]
  },
  {
   "cell_type": "markdown",
   "metadata": {},
   "source": [
    "<h3><center><font face=\"fantasy, serif\" color=#233513 style=\"font-size:35px\">-----------------------------//-----------------------------</font></center></h3>"
   ]
  },
  {
   "cell_type": "markdown",
   "metadata": {},
   "source": [
    "<h2><font face=\"fantasy, serif\" color=#533563 style=\"font-size:40px\"><center>Mathematical Expressions!</center></font></h2>"
   ]
  },
  {
   "cell_type": "markdown",
   "metadata": {},
   "source": [
    "<h2><font face=\"fantasy, serif\" color=#533563 style=\"font-size:25px\">One of the most widely used libraries in Python is Numpy; I know the name sounds silly when you first encounter it.<br><br>Numpy stands for Number Python and the libarary contains numerous functions like sine and cosine; constants like pi; and an almost endless list of related mathematical topics.</font></h2>"
   ]
  },
  {
   "cell_type": "code",
   "execution_count": 3,
   "metadata": {},
   "outputs": [],
   "source": [
    "# numpy is Python's math library and helps us with calculations. Trig functions, constants and \n",
    "# symbols are accessable.\n",
    "import numpy as np"
   ]
  },
  {
   "cell_type": "markdown",
   "metadata": {},
   "source": [
    "<h2><font face=\"fantasy, serif\" color=#533563 style=\"font-size:25px\">Functions from the numpy (np) library will be called with a '$.$'</font></h2>"
   ]
  },
  {
   "cell_type": "code",
   "execution_count": 73,
   "metadata": {},
   "outputs": [
    {
     "data": {
      "text/plain": [
       "3.141592653589793"
      ]
     },
     "execution_count": 73,
     "metadata": {},
     "output_type": "execute_result"
    }
   ],
   "source": [
    "np.pi"
   ]
  },
  {
   "cell_type": "code",
   "execution_count": 74,
   "metadata": {},
   "outputs": [
    {
     "data": {
      "text/plain": [
       "-1.0"
      ]
     },
     "execution_count": 74,
     "metadata": {},
     "output_type": "execute_result"
    }
   ],
   "source": [
    "np.cos(np.pi)"
   ]
  },
  {
   "cell_type": "code",
   "execution_count": 84,
   "metadata": {},
   "outputs": [
    {
     "name": "stdout",
     "output_type": "stream",
     "text": [
      "90 in radians: Sin(90) = 0.8939966636005579\n",
      "90 in degrees: Sin(90) = 1.0\n"
     ]
    }
   ],
   "source": [
    "# Just putting 90 in the sin function will default to 90 radians\n",
    "print(\"90 in radians: Sin(90) =\",np.sin(90))\n",
    "\n",
    "# 90*(np.pi/180)) This will put 90 into degrees in the sin function\n",
    "print(\"90 in degrees: Sin(90) =\",np.sin(90*(np.pi/180)))"
   ]
  },
  {
   "cell_type": "markdown",
   "metadata": {},
   "source": [
    "<h2><font face=\"fantasy, serif\" color=#533563 style=\"font-size:25px\">Below is an unfished line of code. Place the curser after the '<font face=\"fantasy, serif\" color=#533563 style=\"font-size:35px\">$.$</font>' and hit tab.<br> This will bring up a whole list of functions contained in numpy's library. Try and find the sine inverse function. (What is another name for inverse sine??)</font></h2>"
   ]
  },
  {
   "cell_type": "code",
   "execution_count": null,
   "metadata": {
    "collapsed": true
   },
   "outputs": [],
   "source": [
    "np."
   ]
  },
  {
   "cell_type": "markdown",
   "metadata": {},
   "source": [
    "<h3><center><font face=\"fantasy, serif\" color=#233513 style=\"font-size:35px\">-----------------------------//-----------------------------</font></center></h3>"
   ]
  },
  {
   "cell_type": "markdown",
   "metadata": {},
   "source": [
    "<h2><font face=\"fantasy, serif\" color=#533563 style=\"font-size:40px\"><center>For-Loops!</center></font></h2>"
   ]
  },
  {
   "cell_type": "markdown",
   "metadata": {},
   "source": [
    "<h2><font face=\"fantasy, serif\" color=#533563 style=\"font-size:20px\">The <i>i </i> in the loop is a just a temperorary variable used for interation, it has no specific meaning.</font></h2>"
   ]
  },
  {
   "cell_type": "code",
   "execution_count": 86,
   "metadata": {},
   "outputs": [
    {
     "name": "stdout",
     "output_type": "stream",
     "text": [
      "0\n",
      "1\n"
     ]
    }
   ],
   "source": [
    "for i in range(0,2): # Set the conditions for the loop: start at 0 go to 1, stop at 2.\n",
    "    \n",
    "    # This will pring the numbers in the range argument\n",
    "    print(i)          # Anything that you want to happen each time in the loop needs to be indented"
   ]
  },
  {
   "cell_type": "code",
   "execution_count": 12,
   "metadata": {},
   "outputs": [
    {
     "name": "stdout",
     "output_type": "stream",
     "text": [
      "0\n",
      "1\n"
     ]
    }
   ],
   "source": [
    "for random_word in range(0,2): \n",
    "    print(random_word)"
   ]
  },
  {
   "cell_type": "code",
   "execution_count": 15,
   "metadata": {},
   "outputs": [
    {
     "name": "stdout",
     "output_type": "stream",
     "text": [
      "1\n",
      "1\n"
     ]
    }
   ],
   "source": [
    "for random_word in range(0,2): \n",
    "    print(i)"
   ]
  },
  {
   "cell_type": "code",
   "execution_count": 87,
   "metadata": {},
   "outputs": [
    {
     "name": "stdout",
     "output_type": "stream",
     "text": [
      "I\n",
      "s\n",
      " \n",
      "t\n",
      "h\n",
      "a\n",
      "t\n",
      " \n",
      "a\n",
      " \n",
      "f\n",
      "u\n",
      "n\n",
      "n\n",
      "e\n",
      "l\n",
      " \n",
      "c\n",
      "l\n",
      "o\n",
      "u\n",
      "d\n",
      "?\n"
     ]
    }
   ],
   "source": [
    "for i in words:\n",
    "    print(i)"
   ]
  },
  {
   "cell_type": "markdown",
   "metadata": {},
   "source": [
    " <h2><font face=\"fantasy, serif\" color=#533563 style=\"font-size:25px\">We can even do <i>$nested$</i> for-loops. The outer loop <i>i</i> will start with its first entry, 0 and then the inner loop <i>j</i> will run through all of it's entries before the <i>i</i> moves onto its next entry, in which <i>j</i> will run through all of its entries again, etc:</font></h2>"
   ]
  },
  {
   "cell_type": "code",
   "execution_count": 89,
   "metadata": {},
   "outputs": [
    {
     "name": "stdout",
     "output_type": "stream",
     "text": [
      "i: 0\n",
      "j: 0\n",
      "i+j = 0 \n",
      "\n",
      "i: 0\n",
      "j: 1\n",
      "i+j = 1 \n",
      "\n",
      "i: 0\n",
      "j: 2\n",
      "i+j = 2 \n",
      "\n",
      "i: 0\n",
      "j: 3\n",
      "i+j = 3 \n",
      "\n",
      "i: 0\n",
      "j: 4\n",
      "i+j = 4 \n",
      "\n",
      "i: 0\n",
      "j: 5\n",
      "i+j = 5 \n",
      "\n",
      "Done with all j's; moving onto next i-value:\n",
      "\n",
      "i: 1\n",
      "j: 0\n",
      "i+j = 1 \n",
      "\n",
      "i: 1\n",
      "j: 1\n",
      "i+j = 2 \n",
      "\n",
      "i: 1\n",
      "j: 2\n",
      "i+j = 3 \n",
      "\n",
      "i: 1\n",
      "j: 3\n",
      "i+j = 4 \n",
      "\n",
      "i: 1\n",
      "j: 4\n",
      "i+j = 5 \n",
      "\n",
      "i: 1\n",
      "j: 5\n",
      "i+j = 6 \n",
      "\n",
      "Done with all j's; moving onto next i-value:\n",
      "\n",
      "i: 2\n",
      "j: 0\n",
      "i+j = 2 \n",
      "\n",
      "i: 2\n",
      "j: 1\n",
      "i+j = 3 \n",
      "\n",
      "i: 2\n",
      "j: 2\n",
      "i+j = 4 \n",
      "\n",
      "i: 2\n",
      "j: 3\n",
      "i+j = 5 \n",
      "\n",
      "i: 2\n",
      "j: 4\n",
      "i+j = 6 \n",
      "\n",
      "i: 2\n",
      "j: 5\n",
      "i+j = 7 \n",
      "\n",
      "Done with all j's; moving onto next i-value:\n",
      "\n",
      "i: 3\n",
      "j: 0\n",
      "i+j = 3 \n",
      "\n",
      "i: 3\n",
      "j: 1\n",
      "i+j = 4 \n",
      "\n",
      "i: 3\n",
      "j: 2\n",
      "i+j = 5 \n",
      "\n",
      "i: 3\n",
      "j: 3\n",
      "i+j = 6 \n",
      "\n",
      "i: 3\n",
      "j: 4\n",
      "i+j = 7 \n",
      "\n",
      "i: 3\n",
      "j: 5\n",
      "i+j = 8 \n",
      "\n",
      "Done with all j's; moving onto next i-value:\n",
      "\n",
      "Done.\n"
     ]
    }
   ],
   "source": [
    "for i in range(0,4):\n",
    "    for j in range(0,6):\n",
    "        print(\"i:\",i)\n",
    "        print(\"j:\",j)\n",
    "        print(\"i+j =\",i+j,\"\\n\")\n",
    "    print(\"Done with all j's; moving onto next i-value:\\n\")\n",
    "print(\"Done.\")"
   ]
  },
  {
   "cell_type": "markdown",
   "metadata": {
    "collapsed": true
   },
   "source": [
    "<h3><center><font face=\"fantasy, serif\" color=#233513 style=\"font-size:35px\">-----------------------------//-----------------------------</font></center></h3>"
   ]
  },
  {
   "cell_type": "markdown",
   "metadata": {
    "collapsed": true
   },
   "source": [
    "<h2><font face=\"fantasy, serif\" color=#533563 style=\"font-size:40px\"><center>Functions!</center><br></font><font face=\"fantasy, serif\" color=#533563 style=\"font-size:23px\">We can make functions that we can call over and over again. The arguments needed for the function are in the parenthesis:</font></h2>"
   ]
  },
  {
   "cell_type": "markdown",
   "metadata": {},
   "source": [
    "<h2><font face=\"fantasy, serif\" color=#533563 style=\"font-size:25px\">There are a couple main parts to a function in python:\n",
    "<ul> \n",
    "  <li>$def$: Define a function</li><br>\n",
    "  <li>Arguments: variables required for the function (think $x$ in $f(x) = x^{2}$)</li><br>\n",
    "  <li>Indented lines for actions: anything that you want to run in the function must be indented below the $def$</li><br>\n",
    "  <li>$return$: Generate something when the function is called</li>\n",
    "</ul>  \n",
    "</font></h2>"
   ]
  },
  {
   "cell_type": "code",
   "execution_count": 90,
   "metadata": {},
   "outputs": [],
   "source": [
    "# Make a function that will add 4 to any number we feed into the function\n",
    "\n",
    "def Add_to_4(number):\n",
    "    new_number = number+4.\n",
    "    #print \"4.0 +\",number,\"=\",new_number\n",
    "    return new_number"
   ]
  },
  {
   "cell_type": "code",
   "execution_count": 92,
   "metadata": {},
   "outputs": [
    {
     "name": "stdout",
     "output_type": "stream",
     "text": [
      "9.0\n"
     ]
    }
   ],
   "source": [
    "print(Add_to_4(5.)) "
   ]
  },
  {
   "cell_type": "code",
   "execution_count": 94,
   "metadata": {},
   "outputs": [
    {
     "name": "stdout",
     "output_type": "stream",
     "text": [
      "9.0\n",
      "New_Num type: <class 'float'>\n",
      "39.0\n"
     ]
    }
   ],
   "source": [
    "# We can assign the resultant value of the function to a variable as well.\n",
    "New_Num = Add_to_4(5.)\n",
    "print(New_Num)\n",
    "print(\"New_Num type:\",type(New_Num))\n",
    "print(New_Num + 30.)"
   ]
  },
  {
   "cell_type": "markdown",
   "metadata": {},
   "source": [
    " <h2><font face=\"fantasy, serif\" color=#533563 style=\"font-size:25px\">We can even run a function over and over in our newly aquired for-loops:</font></h2>"
   ]
  },
  {
   "cell_type": "code",
   "execution_count": 97,
   "metadata": {},
   "outputs": [
    {
     "name": "stdout",
     "output_type": "stream",
     "text": [
      "index number:  0\n",
      "Function output:  4.0 \n",
      "\n",
      "index number:  1\n",
      "Function output:  5.0 \n",
      "\n",
      "index number:  2\n",
      "Function output:  6.0 \n",
      "\n",
      "index number:  3\n",
      "Function output:  7.0 \n",
      "\n",
      "index number:  4\n",
      "Function output:  8.0 \n",
      "\n"
     ]
    }
   ],
   "source": [
    "for i in range(5): # the range() argument must be integers!!\n",
    "    print(\"index number: \",i)\n",
    "    \n",
    "    # Remember i is an int, we're looking for a float for the function\n",
    "    print(\"Function output: \",Add_to_4(float(i)),\"\\n\")\n",
    "    "
   ]
  },
  {
   "cell_type": "markdown",
   "metadata": {},
   "source": [
    "<h3><center><font face=\"fantasy, serif\" color=#233513 style=\"font-size:35px\">-----------------------------//-----------------------------</font></center></h3>"
   ]
  },
  {
   "cell_type": "markdown",
   "metadata": {},
   "source": [
    "<h2><font face=\"fantasy, serif\" color=#533563 style=\"font-size:40px\"><center>Lists!</center><br></font><font face=\"fantasy, serif\" color=#533563 style=\"font-size:25px\">One very simple but common aspect of all programming is the concept of a list. Lists are just sets of information; they can be sets of numbers or strings or metadata, etc. or a collection different data types:</font></h2>"
   ]
  },
  {
   "cell_type": "code",
   "execution_count": 1,
   "metadata": {},
   "outputs": [
    {
     "name": "stdout",
     "output_type": "stream",
     "text": [
      "[1, 2, 3]\n",
      "[1, 3, 5]\n"
     ]
    }
   ],
   "source": [
    "List = [1,2,3,4,5,6]\n",
    "print List[0:3]\n",
    "print List[0::2] # Print every second term"
   ]
  },
  {
   "cell_type": "code",
   "execution_count": 2,
   "metadata": {},
   "outputs": [
    {
     "name": "stdout",
     "output_type": "stream",
     "text": [
      "['Meso', 'Synoptic', 'Dynamic', 'Physical']\n"
     ]
    }
   ],
   "source": [
    "List2 = [\"Meso\",\"Synoptic\",\"Dynamic\",\"Physical\"]\n",
    "print List2"
   ]
  },
  {
   "cell_type": "code",
   "execution_count": 20,
   "metadata": {},
   "outputs": [
    {
     "name": "stdout",
     "output_type": "stream",
     "text": [
      "['Tornado', 45, -1.0]\n",
      "<type 'str'>\n",
      "<type 'int'>\n",
      "<type 'numpy.float64'>\n"
     ]
    }
   ],
   "source": [
    "List3 = [\"Tornado\",45,np.cos(np.pi)]\n",
    "print List3\n",
    "for i in range (len(List3)):\n",
    "    print type(List3[i])"
   ]
  },
  {
   "cell_type": "code",
   "execution_count": 33,
   "metadata": {},
   "outputs": [
    {
     "name": "stdout",
     "output_type": "stream",
     "text": [
      "4\n"
     ]
    }
   ],
   "source": [
    "List4 = [[4,3],[5,6]]\n",
    "print List4[0]"
   ]
  },
  {
   "cell_type": "markdown",
   "metadata": {},
   "source": [
    "<h2><font face=\"fantasy, serif\" color=#533563 style=\"font-size:40px\"><center>Arrays!</center><br></font><font face=\"fantasy, serif\" color=#533563 style=\"font-size:25px\">Time to work with some very flexible and widely used objects called arrays.</font></h2>"
   ]
  },
  {
   "cell_type": "code",
   "execution_count": 98,
   "metadata": {},
   "outputs": [],
   "source": [
    "# xarray will allow us so many cool and useful features when working with multidimensional data arrays\n",
    "import xarray as xr"
   ]
  },
  {
   "cell_type": "markdown",
   "metadata": {},
   "source": [
    "<h2><font face=\"fantasy, serif\" color=#533563 style=\"font-size:25px\">We can define a random number to set the size of our dimension in our 1d array:</font></h2>"
   ]
  },
  {
   "cell_type": "code",
   "execution_count": 99,
   "metadata": {},
   "outputs": [],
   "source": [
    "test_num = 14"
   ]
  },
  {
   "cell_type": "markdown",
   "metadata": {},
   "source": [
    "<h2><font face=\"fantasy, serif\" color=#533563 style=\"font-size:25px\">Let's make a 1d array with number of entries equal to 14:</font></h2>"
   ]
  },
  {
   "cell_type": "code",
   "execution_count": 117,
   "metadata": {},
   "outputs": [
    {
     "name": "stdout",
     "output_type": "stream",
     "text": [
      "done.\n",
      "Shape of array: (14,)\n",
      "Number of dimensions in array: 1\n",
      "[ 0.  1.  2.  3.  4.  5.  6.  7.  8.  9. 10. 11. 12. 13.] \n",
      "\n",
      "So, this is a 1-d array with length of 14 for its only dinemsion\n"
     ]
    }
   ],
   "source": [
    "# Initate an empty 1d array to populate with Coriolis factors for each lat\n",
    "\n",
    "test = xr.DataArray(np.zeros((test_num))) # test will be a 1d array with test_num number of entries\n",
    "\n",
    "for i in range(test_num):  # same thing as range(0,14)\n",
    "    test[i]=i # Populating each ith index with the value for i, with i being an integer\n",
    "        \n",
    "print(\"done.\")\n",
    "print(\"Shape of array:\",test.shape)\n",
    "print(\"Number of dimensions in array:\",len(test.shape))\n",
    "print(test.values,\"\\n\")\n",
    "print(\"So, this is a\",str(len(test.shape))+\"-d array with length of\",test.shape[0],\"for its only dinemsion\")"
   ]
  },
  {
   "cell_type": "markdown",
   "metadata": {},
   "source": [
    "<h2><font face=\"fantasy, serif\" color=#533563 style=\"font-size:25px\">Let's make a 2d array with number of entries equal to 14 in each dimension:</font></h2>"
   ]
  },
  {
   "cell_type": "code",
   "execution_count": 118,
   "metadata": {},
   "outputs": [
    {
     "name": "stdout",
     "output_type": "stream",
     "text": [
      "done.\n",
      "Shape of array: (14, 14)\n",
      "Number of dimensions in array: 2\n"
     ]
    }
   ],
   "source": [
    "test2 = xr.DataArray(np.zeros((test_num,test_num))) # Same as before but now we have 2 dims with 14 entries each\n",
    "\n",
    "for i in range(test_num):\n",
    "    for j in range(test_num):\n",
    "        test2[i,j]=i\n",
    "        \n",
    "print(\"done.\")\n",
    "print(\"Shape of array:\",test2.shape)\n",
    "print(\"Number of dimensions in array:\",len(test2.shape))"
   ]
  },
  {
   "cell_type": "markdown",
   "metadata": {},
   "source": [
    "<h2><font face=\"fantasy, serif\" color=#533563 style=\"font-size:25px\">Let's make a 4d array with number of entries equal to 14 in each dimension:</font></h2>"
   ]
  },
  {
   "cell_type": "code",
   "execution_count": 121,
   "metadata": {},
   "outputs": [
    {
     "name": "stdout",
     "output_type": "stream",
     "text": [
      "done.\n",
      "Shape of array: (14, 14, 14, 14)\n",
      "Number of dimensions in array: 4\n",
      "Number of total entries: 14\n"
     ]
    }
   ],
   "source": [
    "test4 = xr.DataArray(np.zeros((test_num,test_num,test_num,test_num)))\n",
    "\n",
    "for i in range(test_num):\n",
    "    for j in range(test_num):\n",
    "        for k in range(test_num):\n",
    "            for l in range(test_num):\n",
    "                test4[i,j,k,l]=i\n",
    "        \n",
    "print(\"done.\")\n"
   ]
  },
  {
   "cell_type": "code",
   "execution_count": 130,
   "metadata": {},
   "outputs": [
    {
     "name": "stdout",
     "output_type": "stream",
     "text": [
      "Shape of array: (14, 14, 14, 14)\n",
      "Number of dimensions in array: 4\n",
      "Shape of test4[0:2,:,:,:]: (2, 14, 14, 14)\n"
     ]
    }
   ],
   "source": [
    "print(\"Shape of array:\",test4.shape)\n",
    "print(\"Number of dimensions in array:\",len(test4.shape))\n",
    "print(\"Shape of test4[0:2,:,:,:]:\",(test4[0:2,:,:,:].shape))"
   ]
  },
  {
   "cell_type": "markdown",
   "metadata": {},
   "source": [
    "<h2><font face=\"fantasy, serif\" color=#533563 style=\"font-size:23px\">Let's make an array of some latitudes:</font></h2>"
   ]
  },
  {
   "cell_type": "code",
   "execution_count": 7,
   "metadata": {},
   "outputs": [],
   "source": [
    "lats = xr.DataArray([-90,-60,-30,0,30,60,90])"
   ]
  },
  {
   "cell_type": "markdown",
   "metadata": {},
   "source": [
    "<h2><font face=\"sans-serif\" color=#533563 style=\"font-size:23px\">Numpy also has a wonderful feature for arrays called $where$ which allows you to search the array by a specific value or name and it will print out the index number. That is very useful because when dealing with arrays to obtain values we access the by the index number.<br/><br/>Try and find where -30$^\\circ$ lives:</font></h2>"
   ]
  },
  {
   "cell_type": "code",
   "execution_count": 131,
   "metadata": {},
   "outputs": [
    {
     "name": "stdout",
     "output_type": "stream",
     "text": [
      "Index number for -30 deg: 2\n",
      "lats[2]: -30\n"
     ]
    }
   ],
   "source": [
    "print(\"Index number for -30 deg:\",np.where(lats == -30)[0][0])\n",
    "\n",
    "# Go in reverse and see if the index found brings up our -30 deg:\n",
    "print(\"lats[2]:\",lats[2].values)"
   ]
  },
  {
   "cell_type": "markdown",
   "metadata": {},
   "source": [
    "<h3><center><font face=\"fantasy, serif\" color=#233513 style=\"font-size:35px\">-----------------------------//-----------------------------</font></center></h3>"
   ]
  },
  {
   "cell_type": "markdown",
   "metadata": {
    "collapsed": true
   },
   "source": [
    "<h2><font face=\"fantasy, serif\" color=#533563 style=\"font-size:40px\"><center>User Inputs!</center><br></font><font face=\"fantasy, serif\" color=#533563 style=\"font-size:23px\">There are two types of input in Python, raw_input and input. The first deals in general with any input and outputs a string. The latter will make any number you input output some kind of number data type like int or float.</font></h2>"
   ]
  },
  {
   "cell_type": "code",
   "execution_count": 142,
   "metadata": {},
   "outputs": [
    {
     "name": "stdout",
     "output_type": "stream",
     "text": [
      "Type anything your heart desires: Science!\n",
      "user input string: Science!\n"
     ]
    }
   ],
   "source": [
    "myinput = input(\"Type anything your heart desires: \")\n",
    "print(\"user input string:\",myinput)"
   ]
  },
  {
   "cell_type": "code",
   "execution_count": 133,
   "metadata": {},
   "outputs": [
    {
     "name": "stdout",
     "output_type": "stream",
     "text": [
      "Please choose a number: 45\n",
      "user input number:  45\n"
     ]
    }
   ],
   "source": [
    "mynum = input(\"Please choose a number: \")\n",
    "print(\"user input number:\",mynum)"
   ]
  },
  {
   "cell_type": "markdown",
   "metadata": {},
   "source": [
    "<h3><font face=\"fantasy, serif\" color=#533563 style=\"font-size:23px\">Take a look again at our <i>lats</i> array</font></h3>"
   ]
  },
  {
   "cell_type": "code",
   "execution_count": 134,
   "metadata": {},
   "outputs": [
    {
     "name": "stdout",
     "output_type": "stream",
     "text": [
      "lats array:\n",
      " [-90 -60 -30   0  30  60  90]\n"
     ]
    }
   ],
   "source": [
    "print(\"lats array:\"+\"\\n\",lats[:].values) # lats[:].values gives just the numbers in our array"
   ]
  },
  {
   "cell_type": "markdown",
   "metadata": {},
   "source": [
    "<h3><font face=\"fantasy, serif\" color=#533563 style=\"font-size:23px\">Try the user inputs to find the index number of an latutude in our array: <br><br>(Does it make sense/agree?)</font></h3>"
   ]
  },
  {
   "cell_type": "code",
   "execution_count": 139,
   "metadata": {},
   "outputs": [
    {
     "name": "stdout",
     "output_type": "stream",
     "text": [
      "Please choose a latitude: 90\n",
      "Index number in array for your latitude: 6\n"
     ]
    }
   ],
   "source": [
    "mylat = input('Please choose a latitude: ')\n",
    "print(\"Index number in array for your latitude:\",np.where(lats == int(mylat))[0][0])"
   ]
  },
  {
   "cell_type": "markdown",
   "metadata": {
    "collapsed": true
   },
   "source": [
    "<h3><center><font face=\"fantasy, serif\" color=#233513 style=\"font-size:35px\">-----------------------------//-----------------------------</font></center></h3>"
   ]
  },
  {
   "cell_type": "markdown",
   "metadata": {},
   "source": [
    "<h3><center><font face=\"fantasy, serif\" color=#233513 style=\"font-size:35px\">End of Python Introduction, Good Luck and Feel Free to Ask if You Get Lost!</font></center></h3>"
   ]
  },
  {
   "cell_type": "markdown",
   "metadata": {},
   "source": [
    "<h3><center><font face=\"fantasy, serif\" color=#233513 style=\"font-size:35px\">-----------------------------//-----------------------------</font></center></h3>"
   ]
  }
 ],
 "metadata": {
  "kernelspec": {
   "display_name": "Python 3",
   "language": "python",
   "name": "python3"
  },
  "language_info": {
   "codemirror_mode": {
    "name": "ipython",
    "version": 3
   },
   "file_extension": ".py",
   "mimetype": "text/x-python",
   "name": "python",
   "nbconvert_exporter": "python",
   "pygments_lexer": "ipython3",
   "version": "3.7.3"
  }
 },
 "nbformat": 4,
 "nbformat_minor": 2
}
